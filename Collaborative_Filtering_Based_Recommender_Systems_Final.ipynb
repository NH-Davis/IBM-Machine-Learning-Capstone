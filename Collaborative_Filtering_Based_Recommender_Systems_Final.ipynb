{
  "nbformat": 4,
  "nbformat_minor": 0,
  "metadata": {
    "colab": {
      "provenance": []
    },
    "kernelspec": {
      "name": "python3",
      "display_name": "Python 3"
    },
    "language_info": {
      "name": "python"
    }
  },
  "cells": [
    {
      "cell_type": "markdown",
      "source": [
        "## **STEP 1: PULL IN DATA FROM SOURCE FILES**"
      ],
      "metadata": {
        "id": "VlEUEG6R3l6q"
      }
    },
    {
      "cell_type": "code",
      "execution_count": 2,
      "metadata": {
        "colab": {
          "base_uri": "https://localhost:8080/",
          "height": 140
        },
        "id": "x290dXLDwjXT",
        "outputId": "beb101ec-3da4-49c4-ef10-f569eaeb2af8"
      },
      "outputs": [
        {
          "output_type": "display_data",
          "data": {
            "text/plain": [
              "<IPython.core.display.HTML object>"
            ],
            "text/html": [
              "\n",
              "     <input type=\"file\" id=\"files-b3d8c064-0310-48fb-a801-dcabacfd6172\" name=\"files[]\" multiple disabled\n",
              "        style=\"border:none\" />\n",
              "     <output id=\"result-b3d8c064-0310-48fb-a801-dcabacfd6172\">\n",
              "      Upload widget is only available when the cell has been executed in the\n",
              "      current browser session. Please rerun this cell to enable.\n",
              "      </output>\n",
              "      <script>// Copyright 2017 Google LLC\n",
              "//\n",
              "// Licensed under the Apache License, Version 2.0 (the \"License\");\n",
              "// you may not use this file except in compliance with the License.\n",
              "// You may obtain a copy of the License at\n",
              "//\n",
              "//      http://www.apache.org/licenses/LICENSE-2.0\n",
              "//\n",
              "// Unless required by applicable law or agreed to in writing, software\n",
              "// distributed under the License is distributed on an \"AS IS\" BASIS,\n",
              "// WITHOUT WARRANTIES OR CONDITIONS OF ANY KIND, either express or implied.\n",
              "// See the License for the specific language governing permissions and\n",
              "// limitations under the License.\n",
              "\n",
              "/**\n",
              " * @fileoverview Helpers for google.colab Python module.\n",
              " */\n",
              "(function(scope) {\n",
              "function span(text, styleAttributes = {}) {\n",
              "  const element = document.createElement('span');\n",
              "  element.textContent = text;\n",
              "  for (const key of Object.keys(styleAttributes)) {\n",
              "    element.style[key] = styleAttributes[key];\n",
              "  }\n",
              "  return element;\n",
              "}\n",
              "\n",
              "// Max number of bytes which will be uploaded at a time.\n",
              "const MAX_PAYLOAD_SIZE = 100 * 1024;\n",
              "\n",
              "function _uploadFiles(inputId, outputId) {\n",
              "  const steps = uploadFilesStep(inputId, outputId);\n",
              "  const outputElement = document.getElementById(outputId);\n",
              "  // Cache steps on the outputElement to make it available for the next call\n",
              "  // to uploadFilesContinue from Python.\n",
              "  outputElement.steps = steps;\n",
              "\n",
              "  return _uploadFilesContinue(outputId);\n",
              "}\n",
              "\n",
              "// This is roughly an async generator (not supported in the browser yet),\n",
              "// where there are multiple asynchronous steps and the Python side is going\n",
              "// to poll for completion of each step.\n",
              "// This uses a Promise to block the python side on completion of each step,\n",
              "// then passes the result of the previous step as the input to the next step.\n",
              "function _uploadFilesContinue(outputId) {\n",
              "  const outputElement = document.getElementById(outputId);\n",
              "  const steps = outputElement.steps;\n",
              "\n",
              "  const next = steps.next(outputElement.lastPromiseValue);\n",
              "  return Promise.resolve(next.value.promise).then((value) => {\n",
              "    // Cache the last promise value to make it available to the next\n",
              "    // step of the generator.\n",
              "    outputElement.lastPromiseValue = value;\n",
              "    return next.value.response;\n",
              "  });\n",
              "}\n",
              "\n",
              "/**\n",
              " * Generator function which is called between each async step of the upload\n",
              " * process.\n",
              " * @param {string} inputId Element ID of the input file picker element.\n",
              " * @param {string} outputId Element ID of the output display.\n",
              " * @return {!Iterable<!Object>} Iterable of next steps.\n",
              " */\n",
              "function* uploadFilesStep(inputId, outputId) {\n",
              "  const inputElement = document.getElementById(inputId);\n",
              "  inputElement.disabled = false;\n",
              "\n",
              "  const outputElement = document.getElementById(outputId);\n",
              "  outputElement.innerHTML = '';\n",
              "\n",
              "  const pickedPromise = new Promise((resolve) => {\n",
              "    inputElement.addEventListener('change', (e) => {\n",
              "      resolve(e.target.files);\n",
              "    });\n",
              "  });\n",
              "\n",
              "  const cancel = document.createElement('button');\n",
              "  inputElement.parentElement.appendChild(cancel);\n",
              "  cancel.textContent = 'Cancel upload';\n",
              "  const cancelPromise = new Promise((resolve) => {\n",
              "    cancel.onclick = () => {\n",
              "      resolve(null);\n",
              "    };\n",
              "  });\n",
              "\n",
              "  // Wait for the user to pick the files.\n",
              "  const files = yield {\n",
              "    promise: Promise.race([pickedPromise, cancelPromise]),\n",
              "    response: {\n",
              "      action: 'starting',\n",
              "    }\n",
              "  };\n",
              "\n",
              "  cancel.remove();\n",
              "\n",
              "  // Disable the input element since further picks are not allowed.\n",
              "  inputElement.disabled = true;\n",
              "\n",
              "  if (!files) {\n",
              "    return {\n",
              "      response: {\n",
              "        action: 'complete',\n",
              "      }\n",
              "    };\n",
              "  }\n",
              "\n",
              "  for (const file of files) {\n",
              "    const li = document.createElement('li');\n",
              "    li.append(span(file.name, {fontWeight: 'bold'}));\n",
              "    li.append(span(\n",
              "        `(${file.type || 'n/a'}) - ${file.size} bytes, ` +\n",
              "        `last modified: ${\n",
              "            file.lastModifiedDate ? file.lastModifiedDate.toLocaleDateString() :\n",
              "                                    'n/a'} - `));\n",
              "    const percent = span('0% done');\n",
              "    li.appendChild(percent);\n",
              "\n",
              "    outputElement.appendChild(li);\n",
              "\n",
              "    const fileDataPromise = new Promise((resolve) => {\n",
              "      const reader = new FileReader();\n",
              "      reader.onload = (e) => {\n",
              "        resolve(e.target.result);\n",
              "      };\n",
              "      reader.readAsArrayBuffer(file);\n",
              "    });\n",
              "    // Wait for the data to be ready.\n",
              "    let fileData = yield {\n",
              "      promise: fileDataPromise,\n",
              "      response: {\n",
              "        action: 'continue',\n",
              "      }\n",
              "    };\n",
              "\n",
              "    // Use a chunked sending to avoid message size limits. See b/62115660.\n",
              "    let position = 0;\n",
              "    do {\n",
              "      const length = Math.min(fileData.byteLength - position, MAX_PAYLOAD_SIZE);\n",
              "      const chunk = new Uint8Array(fileData, position, length);\n",
              "      position += length;\n",
              "\n",
              "      const base64 = btoa(String.fromCharCode.apply(null, chunk));\n",
              "      yield {\n",
              "        response: {\n",
              "          action: 'append',\n",
              "          file: file.name,\n",
              "          data: base64,\n",
              "        },\n",
              "      };\n",
              "\n",
              "      let percentDone = fileData.byteLength === 0 ?\n",
              "          100 :\n",
              "          Math.round((position / fileData.byteLength) * 100);\n",
              "      percent.textContent = `${percentDone}% done`;\n",
              "\n",
              "    } while (position < fileData.byteLength);\n",
              "  }\n",
              "\n",
              "  // All done.\n",
              "  yield {\n",
              "    response: {\n",
              "      action: 'complete',\n",
              "    }\n",
              "  };\n",
              "}\n",
              "\n",
              "scope.google = scope.google || {};\n",
              "scope.google.colab = scope.google.colab || {};\n",
              "scope.google.colab._files = {\n",
              "  _uploadFiles,\n",
              "  _uploadFilesContinue,\n",
              "};\n",
              "})(self);\n",
              "</script> "
            ]
          },
          "metadata": {}
        },
        {
          "output_type": "stream",
          "name": "stdout",
          "text": [
            "Saving courses_df.csv to courses_df.csv\n",
            "Saving users_df.csv to users_df.csv\n",
            "Uploaded file 'courses_df.csv' with length 163434 bytes\n",
            "Uploaded file 'users_df.csv' with length 23506 bytes\n"
          ]
        }
      ],
      "source": [
        "from google.colab import files\n",
        "\n",
        "# Upload files\n",
        "uploaded = files.upload()\n",
        "\n",
        "# Confirmation message\n",
        "for filename in uploaded.keys():\n",
        "  print(f\"Uploaded file '{filename}' with length {len(uploaded[filename])} bytes\")\n"
      ]
    },
    {
      "cell_type": "markdown",
      "source": [
        "## **STEP 2: READ UPLOADED FILES INTO PANDAS DATA FRAMES**"
      ],
      "metadata": {
        "id": "kOaMJp-p4SPS"
      }
    },
    {
      "cell_type": "code",
      "source": [
        "import io\n",
        "import pandas as pd\n",
        "\n",
        "# data upload\n",
        "if 'users_df.csv' in uploaded and 'courses_df.csv' in uploaded:\n",
        "    users_df = pd.read_csv(io.BytesIO(uploaded['users_df.csv']))\n",
        "    courses_df = pd.read_csv(io.BytesIO(uploaded['courses_df.csv']))\n",
        "    print(\"Files have been successfully loaded into DataFrames.\")\n",
        "else:\n",
        "    print(\"Please make sure you have uploaded 'users_df.csv' and 'courses_df.csv'.\")\n"
      ],
      "metadata": {
        "colab": {
          "base_uri": "https://localhost:8080/"
        },
        "id": "T8JhAZ7p63NN",
        "outputId": "44883d19-e508-4cc4-abe7-919769cc9571"
      },
      "execution_count": 5,
      "outputs": [
        {
          "output_type": "stream",
          "name": "stdout",
          "text": [
            "Files have been successfully loaded into DataFrames.\n"
          ]
        }
      ]
    },
    {
      "cell_type": "markdown",
      "source": [
        "## **STEP 3: PREPARE USER-COURSE INTERACTION DATA**"
      ],
      "metadata": {
        "id": "OIHe3IB07W2s"
      }
    },
    {
      "cell_type": "code",
      "source": [
        "# Step 1: Create the interaction matrix\n",
        "try:\n",
        "    # Step 1: Create the interaction matrix\n",
        "    interaction_matrix = pd.pivot_table(users_df, index='user', columns='COURSE_ID', fill_value=0)\n",
        "\n",
        "    # Convert the interaction presence to binary (1 for enrolled, 0 for not enrolled)\n",
        "    interaction_matrix = (interaction_matrix > 0).astype(int)\n",
        "\n",
        "    # Confirm creation\n",
        "    print(\"Interaction matrix was created successfully. Shape:\", interaction_matrix.shape)\n",
        "except Exception as e:\n",
        "    print(\"An error occurred while creating the interaction matrix:\", e)"
      ],
      "metadata": {
        "colab": {
          "base_uri": "https://localhost:8080/"
        },
        "id": "lDAhWztL7Ve6",
        "outputId": "de9dc7bb-a2ad-4425-eec7-fadd3657ca15"
      },
      "execution_count": 7,
      "outputs": [
        {
          "output_type": "stream",
          "name": "stdout",
          "text": [
            "Interaction matrix was created successfully. Shape: (1000, 132)\n"
          ]
        }
      ]
    },
    {
      "cell_type": "markdown",
      "source": [
        "## **STEP 4: SELECT TEST/TRAIN SPLIT**"
      ],
      "metadata": {
        "id": "Dy45KfRS8UoH"
      }
    },
    {
      "cell_type": "code",
      "source": [
        "# Step 2: Train-test split\n",
        "# Flatten the matrix and create a DataFrame suitable for the train-test split\n",
        "interaction_df = interaction_matrix.reset_index()\n",
        "interaction_df = pd.melt(interaction_df, id_vars='user', value_name='interaction').dropna()\n",
        "\n",
        "train_df = interaction_df.copy()\n",
        "test_df = train_df.sample(frac=0.2, replace=False, random_state=42)\n",
        "train_df.loc[test_df.index, 'interaction'] = 0\n",
        "\n",
        "# check head of data\n",
        "print(train_df.head())\n",
        "\n",
        "# Confirm data sets are ready\n",
        "print(\"Train and test sets are ready for model implementation.\")"
      ],
      "metadata": {
        "colab": {
          "base_uri": "https://localhost:8080/"
        },
        "id": "P2h4l4lK8VzY",
        "outputId": "620547a4-f1d4-4171-e9fe-5e7ea9691a1c"
      },
      "execution_count": 8,
      "outputs": [
        {
          "output_type": "stream",
          "name": "stdout",
          "text": [
            "    user    None COURSE_ID  interaction\n",
            "0  37465  rating  BD0141EN            0\n",
            "1  50348  rating  BD0141EN            0\n",
            "2  52091  rating  BD0141EN            0\n",
            "3  70434  rating  BD0141EN            0\n",
            "4  85625  rating  BD0141EN            0\n",
            "Train and test sets are ready for model implementation.\n"
          ]
        }
      ]
    },
    {
      "cell_type": "markdown",
      "source": [
        "## **STEP 5: INSTALL AND IMPLEMENT SURPRISE LIBRARY**"
      ],
      "metadata": {
        "id": "6oLSw8yK82DE"
      }
    },
    {
      "cell_type": "code",
      "source": [
        "!pip install scikit-surprise\n",
        "\n",
        "from surprise import Reader, Dataset\n",
        "\n",
        "# Load the dataset into the surprise library's format\n",
        "reader = Reader(rating_scale=(0, 1))\n",
        "data = Dataset.load_from_df(train_df[['user', 'COURSE_ID', 'interaction']], reader)\n",
        "\n"
      ],
      "metadata": {
        "colab": {
          "base_uri": "https://localhost:8080/"
        },
        "id": "tlHvmwH79L6y",
        "outputId": "680495b4-8e80-4e8f-976f-b859ff3e60dc"
      },
      "execution_count": 9,
      "outputs": [
        {
          "output_type": "stream",
          "name": "stdout",
          "text": [
            "Collecting scikit-surprise\n",
            "  Downloading scikit-surprise-1.1.3.tar.gz (771 kB)\n",
            "\u001b[?25l     \u001b[90m━━━━━━━━━━━━━━━━━━━━━━━━━━━━━━━━━━━━━━━━\u001b[0m \u001b[32m0.0/772.0 kB\u001b[0m \u001b[31m?\u001b[0m eta \u001b[36m-:--:--\u001b[0m\r\u001b[2K     \u001b[91m━━━━━━━━━━\u001b[0m\u001b[90m╺\u001b[0m\u001b[90m━━━━━━━━━━━━━━━━━━━━━━━━━━━━━\u001b[0m \u001b[32m194.6/772.0 kB\u001b[0m \u001b[31m5.7 MB/s\u001b[0m eta \u001b[36m0:00:01\u001b[0m\r\u001b[2K     \u001b[91m━━━━━━━━━━━━━━━━━━━━━━━━━━━━━━━━━\u001b[0m\u001b[90m╺\u001b[0m\u001b[90m━━━━━━\u001b[0m \u001b[32m645.1/772.0 kB\u001b[0m \u001b[31m9.3 MB/s\u001b[0m eta \u001b[36m0:00:01\u001b[0m\r\u001b[2K     \u001b[90m━━━━━━━━━━━━━━━━━━━━━━━━━━━━━━━━━━━━━━━━\u001b[0m \u001b[32m772.0/772.0 kB\u001b[0m \u001b[31m8.5 MB/s\u001b[0m eta \u001b[36m0:00:00\u001b[0m\n",
            "\u001b[?25h  Preparing metadata (setup.py) ... \u001b[?25l\u001b[?25hdone\n",
            "Requirement already satisfied: joblib>=1.0.0 in /usr/local/lib/python3.10/dist-packages (from scikit-surprise) (1.4.0)\n",
            "Requirement already satisfied: numpy>=1.17.3 in /usr/local/lib/python3.10/dist-packages (from scikit-surprise) (1.25.2)\n",
            "Requirement already satisfied: scipy>=1.3.2 in /usr/local/lib/python3.10/dist-packages (from scikit-surprise) (1.11.4)\n",
            "Building wheels for collected packages: scikit-surprise\n",
            "  Building wheel for scikit-surprise (setup.py) ... \u001b[?25l\u001b[?25hdone\n",
            "  Created wheel for scikit-surprise: filename=scikit_surprise-1.1.3-cp310-cp310-linux_x86_64.whl size=3162982 sha256=069ecd02d1fcbf02e87d4f3efd15f62f35d494b2cce99c128f328b2ade04a336\n",
            "  Stored in directory: /root/.cache/pip/wheels/a5/ca/a8/4e28def53797fdc4363ca4af740db15a9c2f1595ebc51fb445\n",
            "Successfully built scikit-surprise\n",
            "Installing collected packages: scikit-surprise\n",
            "Successfully installed scikit-surprise-1.1.3\n"
          ]
        }
      ]
    },
    {
      "cell_type": "markdown",
      "source": [
        "## **STEP 6: PRE-MODEL DATA DIAGNOSTICS**"
      ],
      "metadata": {
        "id": "ofSpHj6x_lAE"
      }
    },
    {
      "cell_type": "code",
      "source": [
        "from surprise import Dataset\n",
        "\n",
        "# Convert the trainset and testset back to a list of tuples to check for NaN values\n",
        "trainset_tuples = [ (uid, iid, r) for (uid, iid, r) in trainset.all_ratings() ]\n",
        "testset_tuples = testset\n",
        "\n",
        "# Check for NaN values in the ratings\n",
        "trainset_nan = any(np.isnan(r) for (_, _, r) in trainset_tuples)\n",
        "testset_nan = any(np.isnan(r) for (_, _, r) in testset_tuples)\n",
        "\n",
        "print(f\"NaN values in trainset: {trainset_nan}\")\n",
        "print(f\"NaN values in testset: {testset_nan}\")\n",
        "\n",
        "# Check for infinite values in the ratings\n",
        "trainset_inf = any(np.isinf(r) for (_, _, r) in trainset_tuples)\n",
        "testset_inf = any(np.isinf(r) for (_, _, r) in testset_tuples)\n",
        "\n",
        "print(f\"Infinite values in trainset: {trainset_inf}\")\n",
        "print(f\"Infinite values in testset: {testset_inf}\")\n"
      ],
      "metadata": {
        "colab": {
          "base_uri": "https://localhost:8080/"
        },
        "id": "n9t6MeUW_eVq",
        "outputId": "d105bbe9-c423-4fe4-cf0d-56aee5a41be1"
      },
      "execution_count": 12,
      "outputs": [
        {
          "output_type": "stream",
          "name": "stdout",
          "text": [
            "NaN values in trainset: False\n",
            "NaN values in testset: False\n",
            "Infinite values in trainset: False\n",
            "Infinite values in testset: False\n"
          ]
        }
      ]
    },
    {
      "cell_type": "markdown",
      "source": [
        "## **STEP 7: KNN MODEL - IMPLEMENT, TRAIN & PREDICT**"
      ],
      "metadata": {
        "id": "OPfId4LN9v7O"
      }
    },
    {
      "cell_type": "markdown",
      "source": [
        "# **Explanation: KNN-based (K-Nearest Neighbors): This method will look at similar users (neighbors) based on their course preferences and suggest courses those similar users liked**"
      ],
      "metadata": {
        "id": "www32sEjF7eG"
      }
    },
    {
      "cell_type": "code",
      "source": [
        "from surprise import KNNBasic\n",
        "from surprise.model_selection import train_test_split\n",
        "from surprise import accuracy\n",
        "\n",
        "# Use MSD, which is less likely to have division by zero issues\n",
        "sim_options = {\n",
        "    'name': 'MSD',\n",
        "    'user_based': True  # User-based CF\n",
        "}\n",
        "\n",
        "knn = KNNBasic(sim_options=sim_options)\n",
        "\n",
        "try:\n",
        "    # Split data into training and testing\n",
        "    trainset, testset = train_test_split(data, test_size=0.25)\n",
        "\n",
        "    # Train the KNN model\n",
        "    knn.fit(trainset)\n",
        "\n",
        "    # Predict on the test set\n",
        "    predictions = knn.test(testset)\n",
        "\n",
        "    # Calculate and print RMSE\n",
        "    rmse = accuracy.rmse(predictions)\n",
        "    print(f\"KNN model trained and evaluated successfully. RMSE: {rmse:.4f}\")\n",
        "except Exception as e:\n",
        "    print(f\"An error occurred during model training or prediction: {e}\")\n"
      ],
      "metadata": {
        "colab": {
          "base_uri": "https://localhost:8080/"
        },
        "id": "aDaF6fwE-TaC",
        "outputId": "d95c6955-7d51-4a76-b1f8-49d4edf49552"
      },
      "execution_count": 14,
      "outputs": [
        {
          "output_type": "stream",
          "name": "stdout",
          "text": [
            "Computing the msd similarity matrix...\n",
            "Done computing similarity matrix.\n",
            "RMSE: 0.0864\n",
            "KNN model trained and evaluated successfully. RMSE: 0.0864\n"
          ]
        }
      ]
    },
    {
      "cell_type": "markdown",
      "source": [
        "## **STEP 8: NMF MODEL - IMPLEMENT, TRAIN & PREDICT**"
      ],
      "metadata": {
        "id": "HbxdHUug9-Gf"
      }
    },
    {
      "cell_type": "markdown",
      "source": [
        "# **Explanation: NMF-based (Non-negative Matrix Factorization): This approach decomposes the user-item interaction matrix into a user-feature and item-feature matrix, then uses these reduced dimensions to predict a user's preference for unenrolled courses**"
      ],
      "metadata": {
        "id": "b3FgWJ-mGP1D"
      }
    },
    {
      "cell_type": "code",
      "source": [
        "from surprise import NMF, Reader, Dataset\n",
        "from surprise.model_selection import train_test_split, cross_validate\n",
        "from surprise.accuracy import rmse\n",
        "\n",
        "# Load data into Surprise's format\n",
        "reader = Reader(rating_scale=(0, 1))  # assuming binary interactions\n",
        "data = Dataset.load_from_df(train_df[['user', 'COURSE_ID', 'interaction']], reader)\n",
        "\n",
        "# Split the dataset into training and testing sets\n",
        "trainset, testset = train_test_split(data, test_size=0.25)\n",
        "\n",
        "# Initialize the NMF model\n",
        "nmf = NMF(n_factors=15, n_epochs=50, verbose=True)  # Tweak these parameters as needed\n",
        "\n",
        "# Train the model\n",
        "nmf.fit(trainset)\n",
        "\n",
        "# Predict on the test set\n",
        "predictions = nmf.test(testset)\n",
        "\n",
        "# Calculate and print the RMSE\n",
        "error = rmse(predictions)\n",
        "print(f\"NMF model trained and evaluated successfully. RMSE: {error:.4f}\")\n",
        "\n",
        "# Optionally, perform cross-validation to evaluate the model\n",
        "results = cross_validate(nmf, data, measures=['RMSE'], cv=3, verbose=True)\n"
      ],
      "metadata": {
        "colab": {
          "base_uri": "https://localhost:8080/"
        },
        "id": "YHiCmI4p-UQw",
        "outputId": "cf403a32-7fbd-4c5e-df98-51150b667559"
      },
      "execution_count": 15,
      "outputs": [
        {
          "output_type": "stream",
          "name": "stdout",
          "text": [
            "Processing epoch 0\n",
            "Processing epoch 1\n",
            "Processing epoch 2\n",
            "Processing epoch 3\n",
            "Processing epoch 4\n",
            "Processing epoch 5\n",
            "Processing epoch 6\n",
            "Processing epoch 7\n",
            "Processing epoch 8\n",
            "Processing epoch 9\n",
            "Processing epoch 10\n",
            "Processing epoch 11\n",
            "Processing epoch 12\n",
            "Processing epoch 13\n",
            "Processing epoch 14\n",
            "Processing epoch 15\n",
            "Processing epoch 16\n",
            "Processing epoch 17\n",
            "Processing epoch 18\n",
            "Processing epoch 19\n",
            "Processing epoch 20\n",
            "Processing epoch 21\n",
            "Processing epoch 22\n",
            "Processing epoch 23\n",
            "Processing epoch 24\n",
            "Processing epoch 25\n",
            "Processing epoch 26\n",
            "Processing epoch 27\n",
            "Processing epoch 28\n",
            "Processing epoch 29\n",
            "Processing epoch 30\n",
            "Processing epoch 31\n",
            "Processing epoch 32\n",
            "Processing epoch 33\n",
            "Processing epoch 34\n",
            "Processing epoch 35\n",
            "Processing epoch 36\n",
            "Processing epoch 37\n",
            "Processing epoch 38\n",
            "Processing epoch 39\n",
            "Processing epoch 40\n",
            "Processing epoch 41\n",
            "Processing epoch 42\n",
            "Processing epoch 43\n",
            "Processing epoch 44\n",
            "Processing epoch 45\n",
            "Processing epoch 46\n",
            "Processing epoch 47\n",
            "Processing epoch 48\n",
            "Processing epoch 49\n",
            "RMSE: 0.1072\n",
            "NMF model trained and evaluated successfully. RMSE: 0.1072\n",
            "Processing epoch 0\n",
            "Processing epoch 1\n",
            "Processing epoch 2\n",
            "Processing epoch 3\n",
            "Processing epoch 4\n",
            "Processing epoch 5\n",
            "Processing epoch 6\n",
            "Processing epoch 7\n",
            "Processing epoch 8\n",
            "Processing epoch 9\n",
            "Processing epoch 10\n",
            "Processing epoch 11\n",
            "Processing epoch 12\n",
            "Processing epoch 13\n",
            "Processing epoch 14\n",
            "Processing epoch 15\n",
            "Processing epoch 16\n",
            "Processing epoch 17\n",
            "Processing epoch 18\n",
            "Processing epoch 19\n",
            "Processing epoch 20\n",
            "Processing epoch 21\n",
            "Processing epoch 22\n",
            "Processing epoch 23\n",
            "Processing epoch 24\n",
            "Processing epoch 25\n",
            "Processing epoch 26\n",
            "Processing epoch 27\n",
            "Processing epoch 28\n",
            "Processing epoch 29\n",
            "Processing epoch 30\n",
            "Processing epoch 31\n",
            "Processing epoch 32\n",
            "Processing epoch 33\n",
            "Processing epoch 34\n",
            "Processing epoch 35\n",
            "Processing epoch 36\n",
            "Processing epoch 37\n",
            "Processing epoch 38\n",
            "Processing epoch 39\n",
            "Processing epoch 40\n",
            "Processing epoch 41\n",
            "Processing epoch 42\n",
            "Processing epoch 43\n",
            "Processing epoch 44\n",
            "Processing epoch 45\n",
            "Processing epoch 46\n",
            "Processing epoch 47\n",
            "Processing epoch 48\n",
            "Processing epoch 49\n",
            "Processing epoch 0\n",
            "Processing epoch 1\n",
            "Processing epoch 2\n",
            "Processing epoch 3\n",
            "Processing epoch 4\n",
            "Processing epoch 5\n",
            "Processing epoch 6\n",
            "Processing epoch 7\n",
            "Processing epoch 8\n",
            "Processing epoch 9\n",
            "Processing epoch 10\n",
            "Processing epoch 11\n",
            "Processing epoch 12\n",
            "Processing epoch 13\n",
            "Processing epoch 14\n",
            "Processing epoch 15\n",
            "Processing epoch 16\n",
            "Processing epoch 17\n",
            "Processing epoch 18\n",
            "Processing epoch 19\n",
            "Processing epoch 20\n",
            "Processing epoch 21\n",
            "Processing epoch 22\n",
            "Processing epoch 23\n",
            "Processing epoch 24\n",
            "Processing epoch 25\n",
            "Processing epoch 26\n",
            "Processing epoch 27\n",
            "Processing epoch 28\n",
            "Processing epoch 29\n",
            "Processing epoch 30\n",
            "Processing epoch 31\n",
            "Processing epoch 32\n",
            "Processing epoch 33\n",
            "Processing epoch 34\n",
            "Processing epoch 35\n",
            "Processing epoch 36\n",
            "Processing epoch 37\n",
            "Processing epoch 38\n",
            "Processing epoch 39\n",
            "Processing epoch 40\n",
            "Processing epoch 41\n",
            "Processing epoch 42\n",
            "Processing epoch 43\n",
            "Processing epoch 44\n",
            "Processing epoch 45\n",
            "Processing epoch 46\n",
            "Processing epoch 47\n",
            "Processing epoch 48\n",
            "Processing epoch 49\n",
            "Processing epoch 0\n",
            "Processing epoch 1\n",
            "Processing epoch 2\n",
            "Processing epoch 3\n",
            "Processing epoch 4\n",
            "Processing epoch 5\n",
            "Processing epoch 6\n",
            "Processing epoch 7\n",
            "Processing epoch 8\n",
            "Processing epoch 9\n",
            "Processing epoch 10\n",
            "Processing epoch 11\n",
            "Processing epoch 12\n",
            "Processing epoch 13\n",
            "Processing epoch 14\n",
            "Processing epoch 15\n",
            "Processing epoch 16\n",
            "Processing epoch 17\n",
            "Processing epoch 18\n",
            "Processing epoch 19\n",
            "Processing epoch 20\n",
            "Processing epoch 21\n",
            "Processing epoch 22\n",
            "Processing epoch 23\n",
            "Processing epoch 24\n",
            "Processing epoch 25\n",
            "Processing epoch 26\n",
            "Processing epoch 27\n",
            "Processing epoch 28\n",
            "Processing epoch 29\n",
            "Processing epoch 30\n",
            "Processing epoch 31\n",
            "Processing epoch 32\n",
            "Processing epoch 33\n",
            "Processing epoch 34\n",
            "Processing epoch 35\n",
            "Processing epoch 36\n",
            "Processing epoch 37\n",
            "Processing epoch 38\n",
            "Processing epoch 39\n",
            "Processing epoch 40\n",
            "Processing epoch 41\n",
            "Processing epoch 42\n",
            "Processing epoch 43\n",
            "Processing epoch 44\n",
            "Processing epoch 45\n",
            "Processing epoch 46\n",
            "Processing epoch 47\n",
            "Processing epoch 48\n",
            "Processing epoch 49\n",
            "Evaluating RMSE of algorithm NMF on 3 split(s).\n",
            "\n",
            "                  Fold 1  Fold 2  Fold 3  Mean    Std     \n",
            "RMSE (testset)    0.1136  0.1104  0.1080  0.1106  0.0023  \n",
            "Fit time          2.38    2.81    2.40    2.53    0.20    \n",
            "Test time         0.21    0.55    0.39    0.38    0.14    \n"
          ]
        }
      ]
    },
    {
      "cell_type": "markdown",
      "source": [
        "## **STEP 9: NEURAL NETWORK EMBEDDING MODEL - IMPLEMENT, TRAIN & PREDICT**"
      ],
      "metadata": {
        "id": "e9C_GVgQ99wV"
      }
    },
    {
      "cell_type": "markdown",
      "source": [
        "# **Explanation: Neural Network Embedding-based: This method involves training a neural network to learn a low-dimensional representation (embedding) of both users and courses, which can be used to predict user preferences and make recommendations**"
      ],
      "metadata": {
        "id": "QShy2lm1Gc-g"
      }
    },
    {
      "cell_type": "code",
      "source": [
        "import tensorflow as tf\n",
        "from tensorflow.keras.models import Model\n",
        "from tensorflow.keras.layers import Input, Embedding, Dot, Flatten, Dense\n",
        "from tensorflow.keras.optimizers import Adam\n",
        "from sklearn.metrics import mean_squared_error\n",
        "from math import sqrt\n",
        "\n",
        "# Model building\n",
        "user_input = Input(shape=(1,), name='user_input')\n",
        "course_input = Input(shape=(1,), name='course_input')\n",
        "user_embedding = Embedding(input_dim=num_users, output_dim=15, name='user_embedding')(user_input)\n",
        "course_embedding = Embedding(input_dim=num_courses, output_dim=15, name='course_embedding')(course_input)\n",
        "x = Dot(axes=1)([user_embedding, course_embedding])\n",
        "x = Flatten()(x)\n",
        "x = Dense(1, activation='sigmoid')(x)\n",
        "model = Model(inputs=[user_input, course_input], outputs=x)\n",
        "model.compile(optimizer=Adam(lr=0.001), loss='binary_crossentropy', metrics=['accuracy'])\n",
        "model.summary()\n",
        "\n",
        "# Model training\n",
        "history = model.fit([user_ids, course_ids], interactions, epochs=10, verbose=1, validation_split=0.2)\n",
        "\n",
        "# Model evaluation\n",
        "predictions = model.predict([user_ids, course_ids]).flatten()\n",
        "loss, accuracy = model.evaluate([user_ids, course_ids], interactions)\n",
        "print(f\"Model accuracy: {accuracy:.4f}\")\n",
        "\n",
        "# Calculate and print RMSE\n",
        "rmse = sqrt(mean_squared_error(interactions, predictions))\n",
        "print(f\"Model RMSE: {rmse:.4f}\")\n"
      ],
      "metadata": {
        "colab": {
          "base_uri": "https://localhost:8080/"
        },
        "id": "rg5FbWWO-U_e",
        "outputId": "ff315fd3-f3b4-4ae1-8bf8-4633f37be7a9"
      },
      "execution_count": 17,
      "outputs": [
        {
          "output_type": "stream",
          "name": "stderr",
          "text": [
            "WARNING:absl:`lr` is deprecated in Keras optimizer, please use `learning_rate` or use the legacy optimizer, e.g.,tf.keras.optimizers.legacy.Adam.\n"
          ]
        },
        {
          "output_type": "stream",
          "name": "stdout",
          "text": [
            "Model: \"model_1\"\n",
            "__________________________________________________________________________________________________\n",
            " Layer (type)                Output Shape                 Param #   Connected to                  \n",
            "==================================================================================================\n",
            " user_input (InputLayer)     [(None, 1)]                  0         []                            \n",
            "                                                                                                  \n",
            " course_input (InputLayer)   [(None, 1)]                  0         []                            \n",
            "                                                                                                  \n",
            " user_embedding (Embedding)  (None, 1, 15)                15000     ['user_input[0][0]']          \n",
            "                                                                                                  \n",
            " course_embedding (Embeddin  (None, 1, 15)                990       ['course_input[0][0]']        \n",
            " g)                                                                                               \n",
            "                                                                                                  \n",
            " dot_1 (Dot)                 (None, 15, 15)               0         ['user_embedding[0][0]',      \n",
            "                                                                     'course_embedding[0][0]']    \n",
            "                                                                                                  \n",
            " flatten_1 (Flatten)         (None, 225)                  0         ['dot_1[0][0]']               \n",
            "                                                                                                  \n",
            " dense_1 (Dense)             (None, 1)                    226       ['flatten_1[0][0]']           \n",
            "                                                                                                  \n",
            "==================================================================================================\n",
            "Total params: 16216 (63.34 KB)\n",
            "Trainable params: 16216 (63.34 KB)\n",
            "Non-trainable params: 0 (0.00 Byte)\n",
            "__________________________________________________________________________________________________\n",
            "Epoch 1/10\n",
            "3300/3300 [==============================] - 8s 2ms/step - loss: 0.1086 - accuracy: 0.9907 - val_loss: 0.0961 - val_accuracy: 0.9749\n",
            "Epoch 2/10\n",
            "3300/3300 [==============================] - 9s 3ms/step - loss: 0.0403 - accuracy: 0.9910 - val_loss: 0.0977 - val_accuracy: 0.9749\n",
            "Epoch 3/10\n",
            "3300/3300 [==============================] - 8s 2ms/step - loss: 0.0391 - accuracy: 0.9910 - val_loss: 0.0982 - val_accuracy: 0.9749\n",
            "Epoch 4/10\n",
            "3300/3300 [==============================] - 7s 2ms/step - loss: 0.0383 - accuracy: 0.9910 - val_loss: 0.0980 - val_accuracy: 0.9749\n",
            "Epoch 5/10\n",
            "3300/3300 [==============================] - 9s 3ms/step - loss: 0.0377 - accuracy: 0.9910 - val_loss: 0.0969 - val_accuracy: 0.9749\n",
            "Epoch 6/10\n",
            "3300/3300 [==============================] - 9s 3ms/step - loss: 0.0372 - accuracy: 0.9910 - val_loss: 0.0956 - val_accuracy: 0.9749\n",
            "Epoch 7/10\n",
            "3300/3300 [==============================] - 8s 2ms/step - loss: 0.0368 - accuracy: 0.9910 - val_loss: 0.0939 - val_accuracy: 0.9749\n",
            "Epoch 8/10\n",
            "3300/3300 [==============================] - 8s 3ms/step - loss: 0.0363 - accuracy: 0.9910 - val_loss: 0.0926 - val_accuracy: 0.9749\n",
            "Epoch 9/10\n",
            "3300/3300 [==============================] - 10s 3ms/step - loss: 0.0357 - accuracy: 0.9910 - val_loss: 0.0892 - val_accuracy: 0.9749\n",
            "Epoch 10/10\n",
            "3300/3300 [==============================] - 8s 2ms/step - loss: 0.0337 - accuracy: 0.9914 - val_loss: 0.0819 - val_accuracy: 0.9775\n",
            "4125/4125 [==============================] - 7s 2ms/step\n",
            "4125/4125 [==============================] - 8s 2ms/step - loss: 0.0418 - accuracy: 0.9892\n",
            "Model accuracy: 0.9892\n",
            "Model RMSE: 0.0962\n"
          ]
        }
      ]
    },
    {
      "cell_type": "markdown",
      "source": [
        "## **STEP 10: COMPARATIVE PLOTS**"
      ],
      "metadata": {
        "id": "kMvfJUeSDdrH"
      }
    },
    {
      "cell_type": "code",
      "source": [
        "import matplotlib.pyplot as plt\n",
        "\n",
        "# Example RMSE values for each model (replace these with your actual values)\n",
        "models = ['KNN', 'NMF', 'Neural Network']\n",
        "rmse_values = [0.0864, 0.1106, 0.0962]  # Example RMSE values for each model\n",
        "\n",
        "# Data preparation with sorting\n",
        "rmse_data = list(zip(models, rmse_values))\n",
        "sorted_rmse_data = sorted(rmse_data, key=lambda x: x[1], reverse=True)  # Sort by RMSE descending\n",
        "\n",
        "# Unpacking the sorted data\n",
        "sorted_models, sorted_rmse = zip(*sorted_rmse_data)\n",
        "\n",
        "# Creating the bar chart\n",
        "plt.figure(figsize=(10, 6))\n",
        "plt.bar(sorted_models, sorted_rmse, color='purple', alpha=0.7)\n",
        "plt.xlabel('Model')\n",
        "plt.ylabel('RMSE')\n",
        "plt.title('Comparison of RMSE Across Different Models')\n",
        "plt.ylim(0, max(sorted_rmse) + 0.05)  # Adjust y-axis to show all data clearly\n",
        "plt.show()\n",
        "\n",
        "# Example data: training loss per epoch for the Neural Network model\n",
        "epochs = list(range(1, 11))  # 10 epochs of training\n",
        "training_loss = [0.4, 0.35, 0.3, 0.28, 0.25, 0.23, 0.21, 0.19, 0.18, 0.16]  # Example loss values\n",
        "\n",
        "plt.figure(figsize=(10, 6))\n",
        "plt.plot(epochs, training_loss, marker='o', linestyle='-', color='purple', label='Training Loss')\n",
        "plt.xlabel('Epoch')\n",
        "plt.ylabel('Loss')\n",
        "plt.title('Neural Network: Training Performance Over Epochs')\n",
        "plt.legend()\n",
        "plt.grid(True)\n",
        "plt.show()\n"
      ],
      "metadata": {
        "colab": {
          "base_uri": "https://localhost:8080/",
          "height": 1000
        },
        "id": "UjGVhcDEDqH0",
        "outputId": "92848e14-04b8-46c0-a1e2-54a22e93929d"
      },
      "execution_count": 20,
      "outputs": [
        {
          "output_type": "display_data",
          "data": {
            "text/plain": [
              "<Figure size 1000x600 with 1 Axes>"
            ],
            "image/png": "[encoded data removed]"
          },
          "metadata": {}
        },
        {
          "output_type": "display_data",
          "data": {
            "text/plain": [
              "<Figure size 1000x600 with 1 Axes>"
            ],
            "image/png": "[encoded data removed]"
          },
          "metadata": {}
        }
      ]
    }
  ]
}